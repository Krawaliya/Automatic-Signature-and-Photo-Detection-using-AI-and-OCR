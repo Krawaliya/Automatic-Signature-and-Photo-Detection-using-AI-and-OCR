version https://git-lfs.github.com/spec/v1
oid sha256:8ae10f11de3c2baaf14396f2e6e6cbc2574883cbdac88448d4e6000300c9eeaa
size 4454
